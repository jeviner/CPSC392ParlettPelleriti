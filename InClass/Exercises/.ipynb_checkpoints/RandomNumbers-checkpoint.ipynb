{
 "cells": [
  {
   "cell_type": "markdown",
   "metadata": {},
   "source": [
    "# Random Numbers"
   ]
  },
  {
   "cell_type": "code",
   "execution_count": 1,
   "metadata": {},
   "outputs": [],
   "source": [
    "import numpy as np"
   ]
  },
  {
   "cell_type": "code",
   "execution_count": 2,
   "metadata": {},
   "outputs": [
    {
     "data": {
      "text/plain": [
       "array([-0.36837479,  0.82771952,  0.86212264,  0.65477805,  1.48568651,\n",
       "       -0.48644278, -0.60699181, -0.95820334,  0.35855967, -0.34485617])"
      ]
     },
     "execution_count": 2,
     "metadata": {},
     "output_type": "execute_result"
    }
   ],
   "source": [
    "np.random.normal(loc = 0, scale =1, size = 10)"
   ]
  },
  {
   "cell_type": "code",
   "execution_count": 4,
   "metadata": {},
   "outputs": [
    {
     "data": {
      "text/plain": [
       "array([0.71391753, 0.69854244, 0.6908326 , 0.3165086 , 0.76121876,\n",
       "       0.54867275, 0.62564722, 0.67741346, 0.57585222, 0.84138533,\n",
       "       0.23604301, 0.09648196, 0.14937427, 0.37228404, 0.06757841,\n",
       "       0.18940928, 0.31806913, 0.45846422, 0.85460107, 0.61801588,\n",
       "       0.56779618, 0.84448461, 0.25639344, 0.43081149, 0.99376908,\n",
       "       0.03124978, 0.65054922, 0.58671572, 0.81976119, 0.00766583,\n",
       "       0.45863757, 0.49039478, 0.51389113, 0.55414264, 0.94392095,\n",
       "       0.8727685 , 0.07623238, 0.14402082, 0.77068616, 0.77111079,\n",
       "       0.13376297, 0.31890097, 0.20935391, 0.58508347, 0.51303971,\n",
       "       0.65307949, 0.39677285, 0.02553167, 0.78539529, 0.41977658,\n",
       "       0.26902478, 0.28484148, 0.81040069, 0.96958356, 0.11035765,\n",
       "       0.3932267 , 0.78264565, 0.78215753, 0.37862366, 0.97884899,\n",
       "       0.71149924, 0.26865811, 0.43959403, 0.17087604, 0.44440972,\n",
       "       0.52562242, 0.57712103, 0.63268446, 0.68909019, 0.36085718,\n",
       "       0.15888859, 0.50127722, 0.68060402, 0.61606468, 0.32288079,\n",
       "       0.99684328, 0.1713197 , 0.65975377, 0.0751909 , 0.11239492,\n",
       "       0.28564671, 0.15851461, 0.77386447, 0.69466207, 0.65318674,\n",
       "       0.36894567, 0.42129645, 0.0480211 , 0.74128938, 0.40465079,\n",
       "       0.57100348, 0.94761269, 0.82538452, 0.08594129, 0.07969545,\n",
       "       0.97474287, 0.95994735, 0.71078789, 0.01350997, 0.02253785])"
      ]
     },
     "execution_count": 4,
     "metadata": {},
     "output_type": "execute_result"
    }
   ],
   "source": [
    "np.random.uniform(low = 0, high = 1, size = 100)"
   ]
  },
  {
   "cell_type": "code",
   "execution_count": 5,
   "metadata": {},
   "outputs": [
    {
     "data": {
      "text/plain": [
       "array(['2', '4', '1', '2', '2', '4', '2', '5', '4', '4', '2', '5', '4',\n",
       "       '2', '5', '4', '5', '4', '1', '2', '1', '1', '1', '5', '4'],\n",
       "      dtype='<U1')"
      ]
     },
     "execution_count": 5,
     "metadata": {},
     "output_type": "execute_result"
    }
   ],
   "source": [
    "np.random.choice([\"1\",\"2\",\"3\",\"4\",\"5\"], size = 25, replace = True)"
   ]
  },
  {
   "cell_type": "code",
   "execution_count": 16,
   "metadata": {},
   "outputs": [],
   "source": [
    "np.random.seed(123)"
   ]
  },
  {
   "cell_type": "code",
   "execution_count": 17,
   "metadata": {},
   "outputs": [
    {
     "data": {
      "text/plain": [
       "array(['3', '5', '3', '2', '4', '3', '4', '2', '2', '1', '2', '2', '1',\n",
       "       '1', '2', '4', '5', '1', '1', '5', '2', '4', '3', '5', '3'],\n",
       "      dtype='<U1')"
      ]
     },
     "execution_count": 17,
     "metadata": {},
     "output_type": "execute_result"
    }
   ],
   "source": [
    "np.random.choice([\"1\",\"2\",\"3\",\"4\",\"5\"], size = 25, replace = True)"
   ]
  },
  {
   "cell_type": "code",
   "execution_count": null,
   "metadata": {},
   "outputs": [],
   "source": []
  }
 ],
 "metadata": {
  "kernelspec": {
   "display_name": "Python 3",
   "language": "python",
   "name": "python3"
  },
  "language_info": {
   "codemirror_mode": {
    "name": "ipython",
    "version": 3
   },
   "file_extension": ".py",
   "mimetype": "text/x-python",
   "name": "python",
   "nbconvert_exporter": "python",
   "pygments_lexer": "ipython3",
   "version": "3.7.4"
  }
 },
 "nbformat": 4,
 "nbformat_minor": 4
}
